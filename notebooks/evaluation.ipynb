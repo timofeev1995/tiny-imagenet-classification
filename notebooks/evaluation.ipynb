{
 "cells": [
  {
   "cell_type": "code",
   "execution_count": 1,
   "metadata": {},
   "outputs": [],
   "source": [
    "import os\n",
    "import sys\n",
    "sys.path.append('../')\n",
    "\n",
    "import numpy as np\n",
    "from IPython.display import Image\n",
    "\n",
    "from src.evaluation.evaluator import Evaluator\n",
    "from src.data.utils import load_image"
   ]
  },
  {
   "cell_type": "code",
   "execution_count": 2,
   "metadata": {},
   "outputs": [],
   "source": [
    "EXP_PATH = '../experiments/resnet18/'\n",
    "DATASET_PATH = '/Users/egortimofeev/Data/tiny-imagenet-200/'\n",
    "TEST_PATH = DATASET_PATH + 'val/images/'\n",
    "TEST_IMAGES  = os.listdir(TEST_PATH)"
   ]
  },
  {
   "cell_type": "markdown",
   "metadata": {},
   "source": [
    "---"
   ]
  },
  {
   "cell_type": "code",
   "execution_count": 3,
   "metadata": {},
   "outputs": [],
   "source": [
    "evaluator = Evaluator(experiment_path=EXP_PATH, device='cpu', dataset_path=DATASET_PATH)"
   ]
  },
  {
   "cell_type": "markdown",
   "metadata": {},
   "source": [
    "---"
   ]
  },
  {
   "cell_type": "code",
   "execution_count": 16,
   "metadata": {},
   "outputs": [
    {
     "data": {
      "image/jpeg": "[encoded data removed]",
      "text/plain": [
       "<IPython.core.display.Image object>"
      ]
     },
     "execution_count": 16,
     "metadata": {},
     "output_type": "execute_result"
    }
   ],
   "source": [
    "random_image_path = TEST_PATH + np.random.choice(TEST_IMAGES)\n",
    "random_image = load_image(random_image_path)\n",
    "Image(filename=random_image_path)"
   ]
  },
  {
   "cell_type": "code",
   "execution_count": 17,
   "metadata": {},
   "outputs": [],
   "source": [
    "_, classification_result = evaluator.evaluate(random_image)"
   ]
  },
  {
   "cell_type": "code",
   "execution_count": 18,
   "metadata": {},
   "outputs": [
    {
     "data": {
      "text/plain": [
       "[('pill bottle', 0.94233215),\n",
       " ('beer bottle', 0.035452694),\n",
       " ('pop bottle, soda bottle', 0.008491287),\n",
       " ('remote control, remote', 0.0030900133),\n",
       " ('refrigerator, icebox', 0.0022100247),\n",
       " ('espresso', 0.0019204379),\n",
       " ('beaker', 0.0010901453),\n",
       " ('space heater', 0.00058153004),\n",
       " ('water jug', 0.0004327507),\n",
       " ('barbershop', 0.00027748206)]"
      ]
     },
     "execution_count": 18,
     "metadata": {},
     "output_type": "execute_result"
    }
   ],
   "source": [
    "classification_result[:10]"
   ]
  },
  {
   "cell_type": "markdown",
   "metadata": {},
   "source": [
    "---"
   ]
  }
 ],
 "metadata": {
  "kernelspec": {
   "display_name": "Imagenet",
   "language": "python",
   "name": "imagenet"
  },
  "language_info": {
   "codemirror_mode": {
    "name": "ipython",
    "version": 3
   },
   "file_extension": ".py",
   "mimetype": "text/x-python",
   "name": "python",
   "nbconvert_exporter": "python",
   "pygments_lexer": "ipython3",
   "version": "3.7.7"
  }
 },
 "nbformat": 4,
 "nbformat_minor": 4
}
